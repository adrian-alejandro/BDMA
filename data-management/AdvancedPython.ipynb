{
  "cells": [
    {
      "cell_type": "markdown",
      "metadata": {
        "id": "view-in-github",
        "colab_type": "text"
      },
      "source": [
        "<a href=\"https://colab.research.google.com/github/adrian-alejandro/BDMA/blob/main/data-management/AdvancedPython.ipynb\" target=\"_parent\"><img src=\"https://colab.research.google.com/assets/colab-badge.svg\" alt=\"Open In Colab\"/></a>"
      ]
    },
    {
      "cell_type": "markdown",
      "id": "902ab0ee-4efc-4456-b23a-c7ec167d4404",
      "metadata": {
        "jp-MarkdownHeadingCollapsed": true,
        "tags": [],
        "id": "902ab0ee-4efc-4456-b23a-c7ec167d4404"
      },
      "source": [
        "# Advanced Python"
      ]
    },
    {
      "cell_type": "markdown",
      "id": "f92e64ba-c33c-49fd-911d-681399562eea",
      "metadata": {
        "tags": [],
        "id": "f92e64ba-c33c-49fd-911d-681399562eea"
      },
      "source": [
        "# Advanced Python Session\n",
        "\n",
        "The purpose of this session is to provide you with a reference document\n",
        "on libraries, techniques and tools that will be helpful throughout the rest of\n",
        "the programming-based sessions in the master. Thus, instead of a classical\n",
        "lab session, we will follow a tutorial format, where the assignment document\n",
        "is considerably longer than the rest of sessions and no deliverable is expected\n",
        "\n",
        "## Tasks To Do Before the Session\n",
        "Before coming to this session, you should have checked the session slides and\n",
        "write down all doubts you might have about them. We also encourage you\n",
        "to check the Python documentation in the following website:\n",
        "- Python (https://docs.python.org/3/index.html)\n"
      ]
    },
    {
      "cell_type": "markdown",
      "id": "741da5a2-2315-4f7c-91da-e00166bef305",
      "metadata": {
        "id": "741da5a2-2315-4f7c-91da-e00166bef305"
      },
      "source": [
        "## Tutorial\n",
        "### A. Data structures manipulation with Python\n",
        "Python has contained since its origin a lot of different operations and libraries to work with data collections. We'll review the ones that will\n",
        "be more useful for completing the exercises. Additional information can\n",
        "be checked in [Python Standard Library official documentation](https://docs.python.org/3/library/index.html)\n",
        "\n",
        "#### A.1 Lists\n",
        "A [list](https://docs.python.org/3/library/stdtypes.html#list) is an ordered collection whose elements can be accessed by their integer index. Togeteher with the Tuple and the Range they conform the [Sequence Types in Python](https://docs.python.org/3/library/stdtypes.html#sequence-types-list-tuple-range). A list of elements\n",
        "is defined as:\n"
      ]
    },
    {
      "cell_type": "code",
      "execution_count": null,
      "id": "bb48317b-44a3-4e4a-bc7a-7b479a61c16f",
      "metadata": {
        "id": "bb48317b-44a3-4e4a-bc7a-7b479a61c16f"
      },
      "outputs": [],
      "source": [
        "emptyList = []\n",
        "emptyList.append(\"A\")\n",
        "first = emptyList[0]\n",
        "print(first)\n"
      ]
    },
    {
      "cell_type": "markdown",
      "source": [
        "Instead of Java method Lists.partition(), we have to use itertools.islice which returns an iterator with n selected elements from the iterable of size. For instance, assume we have created a list with four elements:"
      ],
      "metadata": {
        "id": "U49Sq0q0I10Z"
      },
      "id": "U49Sq0q0I10Z"
    },
    {
      "cell_type": "code",
      "source": [
        "import itertools\n",
        "alist = [\"A\",\"B\",\"C\",\"D\"]"
      ],
      "metadata": {
        "id": "tA70kSpFI1dx"
      },
      "id": "tA70kSpFI1dx",
      "execution_count": null,
      "outputs": []
    },
    {
      "cell_type": "markdown",
      "source": [
        "We define a function to encapsulate the steps needed for using islice:"
      ],
      "metadata": {
        "id": "4fsIvHwCJPUW"
      },
      "id": "4fsIvHwCJPUW"
    },
    {
      "cell_type": "code",
      "source": [
        "def partition(l, size) :\n",
        "  it = iter(l)\n",
        "  return iter( lambda : tuple ( itertools.islice(it, size)) , ())"
      ],
      "metadata": {
        "id": "B8v8bMLCJTFi"
      },
      "id": "B8v8bMLCJTFi",
      "execution_count": null,
      "outputs": []
    },
    {
      "cell_type": "markdown",
      "source": [
        "Then, we can call partition() method specifying two partitions:"
      ],
      "metadata": {
        "id": "Al_Jx-Gr1_RQ"
      },
      "id": "Al_Jx-Gr1_RQ"
    },
    {
      "cell_type": "code",
      "source": [
        "partitions = list(partition(alist,2))\n",
        "print(partitions)"
      ],
      "metadata": {
        "id": "wGkN_ye-2B_P"
      },
      "id": "wGkN_ye-2B_P",
      "execution_count": null,
      "outputs": []
    },
    {
      "cell_type": "markdown",
      "source": [
        "In this example, the list *partitions* would contain [[A,B],[C,D]]. The\n",
        "method returns consecutive sublists of the same size, with the exception of\n",
        "the last sublist, which may be smaller."
      ],
      "metadata": {
        "id": "IL2cCUFq2KcO"
      },
      "id": "IL2cCUFq2KcO"
    },
    {
      "cell_type": "markdown",
      "source": [
        "#### A.2 Sets\n",
        "In Python, we define a [set](https://docs.python.org/3/library/stdtypes.html#set-types-set-frozenset) as an unordered collection of\n",
        "hashable objects that contains no duplicate elements. The Pythonic way to\n",
        "to create a set of elements is:"
      ],
      "metadata": {
        "id": "rv2auuV72TXK"
      },
      "id": "rv2auuV72TXK"
    },
    {
      "cell_type": "code",
      "source": [
        "emptySet = set()\n",
        "emptySet.add(\"A\")\n",
        "randomElement = emptySet.pop()\n",
        "print(randomElement)"
      ],
      "metadata": {
        "id": "pMKWnJIR3LwD"
      },
      "id": "pMKWnJIR3LwD",
      "execution_count": null,
      "outputs": []
    },
    {
      "cell_type": "markdown",
      "source": [
        "Python offers the following operations from set theory in order to operate with sets.\n",
        "\n",
        "* **Difference**: The *set.difference()* method of class set takes others set instances as parameters and returns a new set with the elements found\n",
        "in the first set, but not in the ones passed as parameters. Any elements\n",
        "that exist in the sest passed as parameters but not in the first set are not\n",
        "included.\n",
        "* **Symmetric Difference**: The *set.symmetric_difference()* method gets\n",
        "one single set as a parameter and returns a new set with elements that are\n",
        "contained in one set or the other set, but not contained in both.\n",
        "* **Intersection**: The *set.intersection()* method takes others set instances\n",
        "as parameters and returns a new set containing elements that are found in all set instances.\n",
        "* **Union**: The *set.union()* method takes other sets instances and returns\n",
        "a new set instance that contains elements that are found in any set.\n",
        "\n",
        "\n"
      ],
      "metadata": {
        "id": "3l_smJ2l3Wd0"
      },
      "id": "3l_smJ2l3Wd0"
    },
    {
      "cell_type": "markdown",
      "source": [
        "#### A.3 Dictionary\n",
        "A [dictionary](https://docs.python.org/3/tutorial/datastructureshtml#dictionaries) is a data estructure that maps keys to values. A dictionary cannot contain duplicate keys; each key can map to at most one value (i.e., an object, which in general can be of an arbitrary complexity).\n",
        "\n",
        "In Python a dictionary is used as follows:\n",
        "\n"
      ],
      "metadata": {
        "id": "q9G6bLiIeueV"
      },
      "id": "q9G6bLiIeueV"
    },
    {
      "cell_type": "code",
      "source": [
        "emptyDictionary = dict()\n",
        "emptyDictionary[\"k1\"]=\"A\"\n",
        "emptyDictionary[\"k2\"]=\"B\"\n",
        "AandB = list(emptyDictionary.values())\n",
        "print(AandB)"
      ],
      "metadata": {
        "id": "GqZe1cjFgMSV"
      },
      "id": "GqZe1cjFgMSV",
      "execution_count": null,
      "outputs": []
    },
    {
      "cell_type": "markdown",
      "source": [
        "### B. JSON manipulation with Python\n",
        "JSON (JavaScript Object Notation) is a lightweight data-interchange format (https://www.json.org/). It is easy for humans to read and write. It is easy for machines to parse and generate. JSON is a text format that is completely language independent but uses conventions that are familiar to programmers.\n",
        "\n",
        "JSON is built on two structures:\n",
        "\n",
        "*   A collection of key/value pairs. In various programming languages, this is realized as an object, record, struct, dictionary, hash table, keyed list, or map (as seen above).\n",
        "*   An ordered list of values. In most languages, this is realized as an array, vector, list, or sequence.\n",
        "\n",
        "These are universal data structures, which can be nested for creating more complex structures. Virtually all modern programming languages support them in one form or another. It makes sense that a data format that is interchangeable with programming languages is also based on these structures.\n",
        "\n",
        "There are several Python libraries that can be used to parse a JSON string. The standard one is simply called [json](https://docs.python.org/3/library/json.html#module-json). You can check several examples on how to use this library in the same page.\n",
        "\n",
        "One advantage that Python's weak typing brings to us when parsing JSON is that no type exceptions are raised. The same variable can be used to store different types."
      ],
      "metadata": {
        "id": "v5wqtzp6jZXg"
      },
      "id": "v5wqtzp6jZXg"
    },
    {
      "cell_type": "code",
      "source": [
        "import json\n",
        "jsonObject = json.loads('{\"bar\" : 1 , \"bas\" : \"value\" ,\"bat\" : [null, 2.0]}')\n",
        "variable = jsonObject.get(\"bar\")\n",
        "print(variable) #prints 1\n",
        "variable = jsonObject.get(\"bas\")\n",
        "print(variable) #prints value\n",
        "variable = jsonObject.get(\"bat\")\n",
        "print(variable) # prints [None, 2.0]\n",
        "print(variable[0]) # prints None\n",
        "print(variable[1]) # prints 2.0"
      ],
      "metadata": {
        "id": "zArW1toP7oVV"
      },
      "id": "zArW1toP7oVV",
      "execution_count": null,
      "outputs": []
    },
    {
      "cell_type": "markdown",
      "source": [
        "### C. List Comprehension\n",
        "Python has particular way for dealing with lists, what it's called List Comprehension. They are a oneliner form of a for loop, and they're used to both create lists from scratch and perform operations over each element of the list. For example we can create a list with all the integers between 0 and 9.\n",
        "\n"
      ],
      "metadata": {
        "id": "BiTFKEHRE214"
      },
      "id": "BiTFKEHRE214"
    },
    {
      "cell_type": "code",
      "source": [
        "aList = [x for x in range (10)]\n",
        "print(aList)\n",
        "#prints [ 0 , 1 , 2 , 3 , 4 , 5 , 6 , 7 , 8 , 9 ]"
      ],
      "metadata": {
        "id": "OWxKTcj8FS2n"
      },
      "id": "OWxKTcj8FS2n",
      "execution_count": null,
      "outputs": []
    },
    {
      "cell_type": "markdown",
      "source": [
        "We are not limited to a single for clause, so we can combine several of them and if conditions in order to create more complex lists. In this example, we're creating a tuple list from the elements of two lists, with the condition that both elements cannot be equal:"
      ],
      "metadata": {
        "id": "_u7WUFYqHsu5"
      },
      "id": "_u7WUFYqHsu5"
    },
    {
      "cell_type": "code",
      "source": [
        "tList = [(x, y) for x in [1, 2, 3] for y in [ 3, 4 ] if x != y ]\n",
        "print( tList )\n",
        "#prints [ (1, 3), (1, 4), (2, 3), (2, 4), (3, 4)]"
      ],
      "metadata": {
        "id": "f60FBL_0IGY2"
      },
      "id": "f60FBL_0IGY2",
      "execution_count": null,
      "outputs": []
    },
    {
      "cell_type": "markdown",
      "source": [
        "If we want to perfom an action to all the elements of a list using List Comprehension, it can be done as in this example. We are taking all the numbers in a List and rounding them to two decimals:"
      ],
      "metadata": {
        "id": "CU0QvLjAtgSs"
      },
      "id": "CU0QvLjAtgSs"
    },
    {
      "cell_type": "code",
      "source": [
        "nList = [1.2384, 4.972638, 7.826344]\n",
        "rnList = [ str(round(number, 2)) for number in nList ]\n",
        "print(rnList)\n",
        "#prints[ '1.24' , '4.97', '7.83' ]"
      ],
      "metadata": {
        "id": "gIE2_xDctlnG"
      },
      "id": "gIE2_xDctlnG",
      "execution_count": null,
      "outputs": []
    },
    {
      "cell_type": "markdown",
      "source": [
        "### D. Lambda expressions\n",
        "Lambda expressions, also known as anonymous functions, allow to write quick throw away functions (one use) without naming them. Here is anexpression, which tests if the parameter is even:"
      ],
      "metadata": {
        "id": "aJWs3x5FvPBH"
      },
      "id": "aJWs3x5FvPBH"
    },
    {
      "cell_type": "code",
      "source": [
        "def isEven(x):\n",
        "  return x % 2 == 0\n",
        "result = isEven(4)\n",
        "print(result)"
      ],
      "metadata": {
        "id": "Orw6SXEvvZr6"
      },
      "id": "Orw6SXEvvZr6",
      "execution_count": null,
      "outputs": []
    },
    {
      "cell_type": "markdown",
      "source": [
        "Now, here is the same method implemented as a lambda expression:\n"
      ],
      "metadata": {
        "id": "pgIFmVQwvkgj"
      },
      "id": "pgIFmVQwvkgj"
    },
    {
      "cell_type": "code",
      "source": [
        "isEvenLambda = lambda x: x%2 == 0\n",
        "result = isEvenLambda(4)\n",
        "print(result)"
      ],
      "metadata": {
        "id": "lX4mGI0pvy60"
      },
      "id": "lX4mGI0pvy60",
      "execution_count": null,
      "outputs": []
    },
    {
      "cell_type": "markdown",
      "source": [
        "In other languages as Java, lambda expressions are the main way to perform changes iterating over collections. This purpose is mainly fulfilled using List comprehension in Python, but lambda expressions can still be useful for manipulating lists using the map() and filter() functions. For instance, the following code filters a list to only contain the even elements of the original one:"
      ],
      "metadata": {
        "id": "ehWkpqIlv-Iz"
      },
      "id": "ehWkpqIlv-Iz"
    },
    {
      "cell_type": "code",
      "source": [
        "isEvenLambda = lambda x: x%2 == 0\n",
        "aList = [x for x in range(10)]\n",
        "evenList = list(filter(isEvenLambda,aList))\n",
        "print(evenList)"
      ],
      "metadata": {
        "id": "oWcpKmkswHIe"
      },
      "id": "oWcpKmkswHIe",
      "execution_count": null,
      "outputs": []
    },
    {
      "cell_type": "markdown",
      "source": [
        "You may have noticed that we have used both List Comprehension and lambda expressions here, taking advantage of each strengths. Note that in the lambda expression the variable x is just a name we decide to give to each number to be evaluated. Python however presents some disadvantages over Java when using lambda expressions:\n",
        "\n",
        "\n",
        "*   They can only contain a single expression in a single line. If you need\n",
        "to perform several actions you have to encapsulate them in a function.\n",
        "*   There is not stream interface equivalent in python, so it’s not easy to\n",
        "chain different collection processing code in the same manner as other\n",
        "languages.\n",
        "\n",
        "However, when dealing with Spark on Python lambda functions become really useful, as its counterparts on Java language, being used in the map, reduce or filter operations. You’ll probably end up using List Comprehension for creating lists or transforming them, and lambda expressions when using Spark.\n",
        "\n"
      ],
      "metadata": {
        "id": "vzbkjFUaweDo"
      },
      "id": "vzbkjFUaweDo"
    },
    {
      "cell_type": "markdown",
      "source": [
        "### E. Regular expressions\n",
        "A regular expression (regex) is a text string that allows to describe a search pattern in strings. In this section, we will provide you the information on how to deal with them in Python, if you are not familiar with regular expressions and their syntax, we encourage you to check a good summary at https://www.regular-expressions.info/quickstart.html\n",
        "\n",
        "The standard module for regex is Lib.re, which consists of the following\n",
        "classes:\n",
        "\n",
        "\n",
        "*   A **Pattern** object is a compiled representation of a regular expression. The **Pattern** class provides no public constructors. To create a pattern, you must first invoke one of the *compile* methods in module *re*, which will then return a **Pattern** object. These methods accept a regular expression as the first argument and behaviour flags as second one.\n",
        "*   A **Match** object is the result given by a match or search operation\n",
        "performed over a **Pattern** object\n",
        "\n",
        "The **Pattern** object have, among others, the following useful methods.Note that some of them have additional parameters to define starting and ending positions for the input string.\n",
        "\n",
        "\n",
        "*   The *search* method tries to find any part of the input string to the defined pattern.\n",
        "*   The *match* method tries to match the beginning of the input string to\n",
        "the defined pattern.\n",
        "*   The *fullmatch* method tries to match all the input string to the defined\n",
        "pattern.\n",
        "*   The *findall* method returns all the matches in the input string for\n",
        "the defined pattern.\n",
        "*   The *finditer* method is similar to *findall* but returns an iterator.\n",
        "\n",
        "A **Match** is created from a **Pattern** when invoking any of the previous methods and there's at least one match. Otherwise, *None* is returned. A returned **Match** object also have a set of methods to get the start and ending position of the match, the matching groups et al. Check the documentation at https://docs.python.org/3/library/re.html#match-objects for reference.\n",
        "\n",
        "The following program depicts an example of using such methods:\n",
        "\n",
        "\n",
        "\n",
        "\n",
        "\n"
      ],
      "metadata": {
        "id": "8flYCiO4w7vZ"
      },
      "id": "8flYCiO4w7vZ"
    },
    {
      "cell_type": "code",
      "source": [
        "import re\n",
        "# Input for matching the regexe pattern\n",
        "input = \"This is an apple . These are 33 ( thirty−three) apples\"\n",
        "# Regexe to be matched\n",
        "regexe = \"Th\"\n",
        "# Step 1 : Allocate a Pattern object to compile a regexe\n",
        "pattern = re.compile(regexe)\n",
        "#pattern = re.compile( regexe , re.IGNORECASE) #case−insensitive\n",
        "# Step 2 : Use the pattern to perform the matching and process\n",
        "# the matching result\n",
        "# Using finditer()\n",
        "for match in pattern.finditer(input):\n",
        "  print('findIter() found the pattern \\\"%s \\\" starting at \\\n",
        "  index %02d and ending at index %02d ' %\\\n",
        "  (match.group(0), match.start(), match.end()))\n",
        "\n",
        "#Using fullmatch()\n",
        "match = pattern.fullmatch(input)\n",
        "if(match):\n",
        "  print('fullmatch() found the pattern \\\"%s \\\" starting at \\\n",
        "  index %02d and ending at index %02d ' %\\\n",
        "  (match.group(0), match.start(), match.end()))\n",
        "else:\n",
        "  print(\"fullmatch() found nothing\")\n",
        "\n",
        "#Use method match()\n",
        "match = pattern.match(input)\n",
        "if(match):\n",
        "  print('match() found the pattern \\\"%s \\\" starting at \\\n",
        "  index %02d and ending at index %02d ' %\\\n",
        "  (match.group(0), match.start(), match.end()))\n",
        "else:\n",
        "  print(\"match() found nothing\")"
      ],
      "metadata": {
        "id": "7VQpqSIb4gw_"
      },
      "id": "7VQpqSIb4gw_",
      "execution_count": null,
      "outputs": []
    },
    {
      "cell_type": "markdown",
      "source": [
        "The output of this code is the following one:\n",
        "\n",
        "\n",
        "```\n",
        "findIter() found the pattern \"Th \" starting at   index 00 and ending at index 02\n",
        "findIter() found the pattern \"Th \" starting at   index 19 and ending at index 21\n",
        "fullmatch() found nothing\n",
        "match() found the pattern \"Th \" starting at   index 00 and ending at index 02\n",
        "```\n",
        "\n",
        "\n"
      ],
      "metadata": {
        "id": "wNlCI1pb8s8k"
      },
      "id": "wNlCI1pb8s8k"
    },
    {
      "cell_type": "markdown",
      "source": [
        "## In-class Practice\n",
        "\n",
        "Now, we ask you to perform some data processing where the previously described techniques might come handy. Precisely, we will process data related to the Nobel prizes as obtained from their API (https://nobelprize.readme.io/docs/getting-started).\n",
        "We provide you with the following three  JSON files correspondingto the prize, laureate and country APIs. You can uncomment any of the print lines to see the structure of the json file for your reference:"
      ],
      "metadata": {
        "id": "QnisN7OMEadU"
      },
      "id": "QnisN7OMEadU"
    },
    {
      "cell_type": "code",
      "source": [
        "!wget --no-check-certificate -O \"country.json\" \"https://fpc-git.upc.es/upcschool-lab/dataset-repository/-/raw/main/AdvancedPython/country.json\"\n",
        "!wget --no-check-certificate -O \"laureate.json\" \"https://fpc-git.upc.es/upcschool-lab/dataset-repository/-/raw/main/AdvancedPython/laureate.json\"\n",
        "!wget --no-check-certificate -O \"prize.json\" \"https://fpc-git.upc.es/upcschool-lab/dataset-repository/-/raw/main/AdvancedPython/prize.json\"\n",
        "\n",
        "import json\n",
        "countryjsonfile = open(\"country.json\",'r')\n",
        "countryjsoncontent = countryjsonfile.read()\n",
        "countryjsonfile.close()\n",
        "countriesContent = json.loads(countryjsoncontent)\n",
        "#print(json.dumps(countriesContent, indent=4))\n",
        "\n",
        "laureatejsonfile = open(\"laureate.json\",'r')\n",
        "laureatejsoncontent = laureatejsonfile.read()\n",
        "laureatejsonfile.close()\n",
        "laureatesContent = json.loads(laureatejsoncontent)\n",
        "#print(json.dumps(laureatesContent, indent=4))\n",
        "\n",
        "prizejsonfile = open(\"prize.json\",'r')\n",
        "prizejsoncontent = prizejsonfile.read()\n",
        "prizejsonfile.close()\n",
        "prizesContent = json.loads(prizejsoncontent)\n",
        "#print(json.dumps(prizesContent, indent=4))"
      ],
      "metadata": {
        "id": "aBKZ4pdSED3b",
        "colab": {
          "base_uri": "https://localhost:8080/"
        },
        "outputId": "0f89a28d-4052-4b72-d776-615058edb764"
      },
      "id": "aBKZ4pdSED3b",
      "execution_count": null,
      "outputs": [
        {
          "output_type": "stream",
          "name": "stdout",
          "text": [
            "--2023-11-17 09:13:48--  https://fpc-git.upc.es/upcschool-lab/dataset-repository/-/raw/main/AdvancedPython/country.json\n",
            "Resolving fpc-git.upc.es (fpc-git.upc.es)... 147.83.53.30\n",
            "Connecting to fpc-git.upc.es (fpc-git.upc.es)|147.83.53.30|:443... connected.\n",
            "WARNING: cannot verify fpc-git.upc.es's certificate, issued by ‘CN=GEANT OV RSA CA 4,O=GEANT Vereniging,C=NL’:\n",
            "  Unable to locally verify the issuer's authority.\n",
            "HTTP request sent, awaiting response... 200 OK\n",
            "Length: 6203 (6.1K) [text/plain]\n",
            "Saving to: ‘country.json’\n",
            "\n",
            "country.json        100%[===================>]   6.06K  --.-KB/s    in 0s      \n",
            "\n",
            "2023-11-17 09:13:49 (58.6 MB/s) - ‘country.json’ saved [6203/6203]\n",
            "\n",
            "--2023-11-17 09:13:49--  https://fpc-git.upc.es/upcschool-lab/dataset-repository/-/raw/main/AdvancedPython/laureate.json\n",
            "Resolving fpc-git.upc.es (fpc-git.upc.es)... 147.83.53.30\n",
            "Connecting to fpc-git.upc.es (fpc-git.upc.es)|147.83.53.30|:443... connected.\n",
            "WARNING: cannot verify fpc-git.upc.es's certificate, issued by ‘CN=GEANT OV RSA CA 4,O=GEANT Vereniging,C=NL’:\n",
            "  Unable to locally verify the issuer's authority.\n",
            "HTTP request sent, awaiting response... 200 OK\n",
            "Length: 443793 (433K) [text/plain]\n",
            "Saving to: ‘laureate.json’\n",
            "\n",
            "laureate.json       100%[===================>] 433.39K   760KB/s    in 0.6s    \n",
            "\n",
            "2023-11-17 09:13:50 (760 KB/s) - ‘laureate.json’ saved [443793/443793]\n",
            "\n",
            "--2023-11-17 09:13:51--  https://fpc-git.upc.es/upcschool-lab/dataset-repository/-/raw/main/AdvancedPython/prize.json\n",
            "Resolving fpc-git.upc.es (fpc-git.upc.es)... 147.83.53.30\n",
            "Connecting to fpc-git.upc.es (fpc-git.upc.es)|147.83.53.30|:443... connected.\n",
            "WARNING: cannot verify fpc-git.upc.es's certificate, issued by ‘CN=GEANT OV RSA CA 4,O=GEANT Vereniging,C=NL’:\n",
            "  Unable to locally verify the issuer's authority.\n",
            "HTTP request sent, awaiting response... 200 OK\n",
            "Length: 195031 (190K) [text/plain]\n",
            "Saving to: ‘prize.json’\n",
            "\n",
            "prize.json          100%[===================>] 190.46K   591KB/s    in 0.3s    \n",
            "\n",
            "2023-11-17 09:13:51 (591 KB/s) - ‘prize.json’ saved [195031/195031]\n",
            "\n"
          ]
        }
      ]
    },
    {
      "cell_type": "markdown",
      "source": [
        "\n",
        "\n",
        "### Exercise 1\n",
        "Print the code and name for each country. If there are multiple country names for the same code, print all the names together as a list. An excerpt of your output should look like the following:\n",
        "\n",
        "\n",
        "```\n",
        "PT −− [Portugal]\n",
        "LR −− [Liberia]\n",
        "DK −− [Denmark , Sleswick, then Denmark , Sleswick]\n",
        "LT −− [Lithuania , Russian Empire (now Lithuania ), Poland(now\n",
        "Lithuania)]\n",
        "LU −− [Luxembourg]\n",
        "```\n"
      ],
      "metadata": {
        "id": "GxN2dY7Z9FBK"
      },
      "id": "GxN2dY7Z9FBK"
    },
    {
      "cell_type": "code",
      "source": [
        "\n",
        "def allCountries(countriesJsonContent):\n",
        "  print(\"Code goes here\")\n",
        "\n",
        "allCountries(countryjsoncontent)"
      ],
      "metadata": {
        "id": "L799sykeGTCK"
      },
      "id": "L799sykeGTCK",
      "execution_count": null,
      "outputs": []
    },
    {
      "cell_type": "markdown",
      "source": [
        "\n",
        "### Exercise 2\n",
        "For each year, print the total number of laureates that got a Nobel prize. An excerpt of your output should look like the following:\n",
        "\n",
        "\n",
        "```\n",
        "2015 −− 11\n",
        "2016 −− 11\n",
        "2017 −− 12\n",
        "```\n",
        "\n"
      ],
      "metadata": {
        "id": "vkQLQZdMGTg-"
      },
      "id": "vkQLQZdMGTg-"
    },
    {
      "cell_type": "code",
      "source": [
        "\n",
        "def amountPrizesPerYear(prizesJsonContent):\n",
        "  print(\"Code goes here\")\n",
        "\n",
        "amountPrizesPerYear(prizejsoncontent)"
      ],
      "metadata": {
        "id": "Dfzr8OHuGgz8"
      },
      "id": "Dfzr8OHuGgz8",
      "execution_count": null,
      "outputs": []
    },
    {
      "cell_type": "markdown",
      "source": [
        "### Exercise 3\n",
        "Print the name and date of birth of those laureates that got a Nobel prize motivated by their work on DNA. An excerpt of your output should look like the following:\n",
        "\n",
        "```\n",
        "Berg , Paul −− 1926−06−30\n",
        "Lindahl , Tomas −− 1938−01−28\n",
        "Modrich , Paul −− 1946−06−13\n",
        "Sancar , Aziz −− 1946−09−08\n",
        "```"
      ],
      "metadata": {
        "id": "08kiMwggGhPB"
      },
      "id": "08kiMwggGhPB"
    },
    {
      "cell_type": "code",
      "source": [
        "import re\n",
        "\n",
        "\n",
        "def birthDateDNANobel(laureatesJsonContent):\n",
        "  print(\"Code goes here\")\n",
        "\n",
        "birthDateDNANobel(laureatejsoncontent)"
      ],
      "metadata": {
        "id": "R-aj0YklXGb2"
      },
      "id": "R-aj0YklXGb2",
      "execution_count": null,
      "outputs": []
    }
  ],
  "metadata": {
    "kernelspec": {
      "display_name": "Python 3 (ipykernel)",
      "language": "python",
      "name": "python3"
    },
    "language_info": {
      "codemirror_mode": {
        "name": "ipython",
        "version": 3
      },
      "file_extension": ".py",
      "mimetype": "text/x-python",
      "name": "python",
      "nbconvert_exporter": "python",
      "pygments_lexer": "ipython3",
      "version": "3.9.4"
    },
    "colab": {
      "provenance": [],
      "include_colab_link": true
    }
  },
  "nbformat": 4,
  "nbformat_minor": 5
}