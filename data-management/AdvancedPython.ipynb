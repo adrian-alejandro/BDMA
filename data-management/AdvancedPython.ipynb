{
  "cells": [
    {
      "cell_type": "markdown",
      "metadata": {
        "id": "view-in-github",
        "colab_type": "text"
      },
      "source": [
        "<a href=\"https://colab.research.google.com/github/adrian-alejandro/BDMA/blob/main/data-management/AdvancedPython.ipynb\" target=\"_parent\"><img src=\"https://colab.research.google.com/assets/colab-badge.svg\" alt=\"Open In Colab\"/></a>"
      ]
    },
    {
      "cell_type": "markdown",
      "id": "902ab0ee-4efc-4456-b23a-c7ec167d4404",
      "metadata": {
        "jp-MarkdownHeadingCollapsed": true,
        "tags": [],
        "id": "902ab0ee-4efc-4456-b23a-c7ec167d4404"
      },
      "source": [
        "# Advanced Python"
      ]
    },
    {
      "cell_type": "markdown",
      "id": "f92e64ba-c33c-49fd-911d-681399562eea",
      "metadata": {
        "tags": [],
        "id": "f92e64ba-c33c-49fd-911d-681399562eea"
      },
      "source": [
        "# Advanced Python Session\n",
        "\n",
        "The purpose of this session is to provide you with a reference document\n",
        "on libraries, techniques and tools that will be helpful throughout the rest of\n",
        "the programming-based sessions in the master. Thus, instead of a classical\n",
        "lab session, we will follow a tutorial format, where the assignment document\n",
        "is considerably longer than the rest of sessions and no deliverable is expected\n",
        "\n",
        "## Tasks To Do Before the Session\n",
        "Before coming to this session, you should have checked the session slides and\n",
        "write down all doubts you might have about them. We also encourage you\n",
        "to check the Python documentation in the following website:\n",
        "- Python (https://docs.python.org/3/index.html)\n"
      ]
    },
    {
      "cell_type": "markdown",
      "id": "741da5a2-2315-4f7c-91da-e00166bef305",
      "metadata": {
        "id": "741da5a2-2315-4f7c-91da-e00166bef305"
      },
      "source": [
        "## Tutorial\n",
        "### A. Data structures manipulation with Python\n",
        "Python has contained since its origin a lot of different operations and libraries to work with data collections. We'll review the ones that will\n",
        "be more useful for completing the exercises. Additional information can\n",
        "be checked in [Python Standard Library official documentation](https://docs.python.org/3/library/index.html)\n",
        "\n",
        "#### A.1 Lists\n",
        "A [list](https://docs.python.org/3/library/stdtypes.html#list) is an ordered collection whose elements can be accessed by their integer index. Together with the Tuple and the Range they conform the [Sequence Types in Python](https://docs.python.org/3/library/stdtypes.html#sequence-types-list-tuple-range). A list of elements\n",
        "is defined as:\n"
      ]
    },
    {
      "cell_type": "code",
      "execution_count": 2,
      "id": "bb48317b-44a3-4e4a-bc7a-7b479a61c16f",
      "metadata": {
        "id": "bb48317b-44a3-4e4a-bc7a-7b479a61c16f",
        "colab": {
          "base_uri": "https://localhost:8080/"
        },
        "outputId": "62a367d3-7ff6-46b1-af52-481d258d9508"
      },
      "outputs": [
        {
          "output_type": "stream",
          "name": "stdout",
          "text": [
            "A\n"
          ]
        }
      ],
      "source": [
        "emptyList = []\n",
        "emptyList.append(\"A\")\n",
        "first = emptyList[0]\n",
        "print(first)\n"
      ]
    },
    {
      "cell_type": "markdown",
      "source": [
        "Instead of Java method Lists.partition(), we have to use itertools.islice which returns an iterator with n selected elements from the iterable of size. For instance, assume we have created a list with four elements:"
      ],
      "metadata": {
        "id": "U49Sq0q0I10Z"
      },
      "id": "U49Sq0q0I10Z"
    },
    {
      "cell_type": "code",
      "source": [
        "import itertools\n",
        "alist = [\"A\",\"B\",\"C\",\"D\"]"
      ],
      "metadata": {
        "id": "tA70kSpFI1dx"
      },
      "id": "tA70kSpFI1dx",
      "execution_count": 3,
      "outputs": []
    },
    {
      "cell_type": "markdown",
      "source": [
        "We define a function to encapsulate the steps needed for using islice:"
      ],
      "metadata": {
        "id": "4fsIvHwCJPUW"
      },
      "id": "4fsIvHwCJPUW"
    },
    {
      "cell_type": "code",
      "source": [
        "def partition(l, size) :\n",
        "  it = iter(l)\n",
        "  return iter( lambda : tuple ( itertools.islice(it, size)) , ())"
      ],
      "metadata": {
        "id": "B8v8bMLCJTFi"
      },
      "id": "B8v8bMLCJTFi",
      "execution_count": 4,
      "outputs": []
    },
    {
      "cell_type": "markdown",
      "source": [
        "Then, we can call partition() method specifying two partitions:"
      ],
      "metadata": {
        "id": "Al_Jx-Gr1_RQ"
      },
      "id": "Al_Jx-Gr1_RQ"
    },
    {
      "cell_type": "code",
      "source": [
        "partitions = list(partition(alist,2))\n",
        "print(partitions)"
      ],
      "metadata": {
        "id": "wGkN_ye-2B_P",
        "colab": {
          "base_uri": "https://localhost:8080/"
        },
        "outputId": "36bbc71d-15cd-4c27-bcc9-fbb7f72c19a9"
      },
      "id": "wGkN_ye-2B_P",
      "execution_count": 5,
      "outputs": [
        {
          "output_type": "stream",
          "name": "stdout",
          "text": [
            "[('A', 'B'), ('C', 'D')]\n"
          ]
        }
      ]
    },
    {
      "cell_type": "markdown",
      "source": [
        "In this example, the list *partitions* would contain [[A,B],[C,D]]. The\n",
        "method returns consecutive sublists of the same size, with the exception of\n",
        "the last sublist, which may be smaller."
      ],
      "metadata": {
        "id": "IL2cCUFq2KcO"
      },
      "id": "IL2cCUFq2KcO"
    },
    {
      "cell_type": "markdown",
      "source": [
        "#### A.2 Sets\n",
        "In Python, we define a [set](https://docs.python.org/3/library/stdtypes.html#set-types-set-frozenset) as an unordered collection of\n",
        "hashable objects that contains no duplicate elements. The Pythonic way to\n",
        "to create a set of elements is:"
      ],
      "metadata": {
        "id": "rv2auuV72TXK"
      },
      "id": "rv2auuV72TXK"
    },
    {
      "cell_type": "code",
      "source": [
        "emptySet = set()\n",
        "emptySet.add(\"A\")\n",
        "randomElement = emptySet.pop()\n",
        "print(randomElement)"
      ],
      "metadata": {
        "id": "pMKWnJIR3LwD",
        "colab": {
          "base_uri": "https://localhost:8080/"
        },
        "outputId": "0d9dfd0b-d5e6-4efc-dfa0-88dbf8084da5"
      },
      "id": "pMKWnJIR3LwD",
      "execution_count": 6,
      "outputs": [
        {
          "output_type": "stream",
          "name": "stdout",
          "text": [
            "A\n"
          ]
        }
      ]
    },
    {
      "cell_type": "markdown",
      "source": [
        "Python offers the following operations from set theory in order to operate with sets.\n",
        "\n",
        "* **Difference**: The *set.difference()* method of class set takes others set instances as parameters and returns a new set with the elements found\n",
        "in the first set, but not in the ones passed as parameters. Any elements\n",
        "that exist in the sest passed as parameters but not in the first set are not\n",
        "included.\n",
        "* **Symmetric Difference**: The *set.symmetric_difference()* method gets\n",
        "one single set as a parameter and returns a new set with elements that are\n",
        "contained in one set or the other set, but not contained in both.\n",
        "* **Intersection**: The *set.intersection()* method takes others set instances\n",
        "as parameters and returns a new set containing elements that are found in all set instances.\n",
        "* **Union**: The *set.union()* method takes other sets instances and returns\n",
        "a new set instance that contains elements that are found in any set.\n",
        "\n",
        "\n"
      ],
      "metadata": {
        "id": "3l_smJ2l3Wd0"
      },
      "id": "3l_smJ2l3Wd0"
    },
    {
      "cell_type": "markdown",
      "source": [
        "#### A.3 Dictionary\n",
        "A [dictionary](https://docs.python.org/3/tutorial/datastructureshtml#dictionaries) is a data estructure that maps keys to values. A dictionary cannot contain duplicate keys; each key can map to at most one value (i.e., an object, which in general can be of an arbitrary complexity).\n",
        "\n",
        "In Python a dictionary is used as follows:\n",
        "\n"
      ],
      "metadata": {
        "id": "q9G6bLiIeueV"
      },
      "id": "q9G6bLiIeueV"
    },
    {
      "cell_type": "code",
      "source": [
        "emptyDictionary = dict()\n",
        "emptyDictionary[\"k1\"]=\"A\"\n",
        "emptyDictionary[\"k2\"]=\"B\"\n",
        "AandB = list(emptyDictionary.values())\n",
        "print(AandB)"
      ],
      "metadata": {
        "id": "GqZe1cjFgMSV",
        "colab": {
          "base_uri": "https://localhost:8080/"
        },
        "outputId": "9b96e314-2af9-4b5e-d369-eff27e4d7ee7"
      },
      "id": "GqZe1cjFgMSV",
      "execution_count": 7,
      "outputs": [
        {
          "output_type": "stream",
          "name": "stdout",
          "text": [
            "['A', 'B']\n"
          ]
        }
      ]
    },
    {
      "cell_type": "markdown",
      "source": [
        "### B. JSON manipulation with Python\n",
        "JSON (JavaScript Object Notation) is a lightweight data-interchange format (https://www.json.org/). It is easy for humans to read and write. It is easy for machines to parse and generate. JSON is a text format that is completely language independent but uses conventions that are familiar to programmers.\n",
        "\n",
        "JSON is built on two structures:\n",
        "\n",
        "*   A collection of key/value pairs. In various programming languages, this is realized as an object, record, struct, dictionary, hash table, keyed list, or map (as seen above).\n",
        "*   An ordered list of values. In most languages, this is realized as an array, vector, list, or sequence.\n",
        "\n",
        "These are universal data structures, which can be nested for creating more complex structures. Virtually all modern programming languages support them in one form or another. It makes sense that a data format that is interchangeable with programming languages is also based on these structures.\n",
        "\n",
        "There are several Python libraries that can be used to parse a JSON string. The standard one is simply called [json](https://docs.python.org/3/library/json.html#module-json). You can check several examples on how to use this library in the same page.\n",
        "\n",
        "One advantage that Python's weak typing brings to us when parsing JSON is that no type exceptions are raised. The same variable can be used to store different types."
      ],
      "metadata": {
        "id": "v5wqtzp6jZXg"
      },
      "id": "v5wqtzp6jZXg"
    },
    {
      "cell_type": "code",
      "source": [
        "import json\n",
        "jsonObject = json.loads('{\"bar\" : 1 , \"bas\" : \"value\" ,\"bat\" : [null, 2.0]}')\n",
        "variable = jsonObject.get(\"bar\")\n",
        "print(variable) #prints 1\n",
        "variable = jsonObject.get(\"bas\")\n",
        "print(variable) #prints value\n",
        "variable = jsonObject.get(\"bat\")\n",
        "print(variable) # prints [None, 2.0]\n",
        "print(variable[0]) # prints None\n",
        "print(variable[1]) # prints 2.0"
      ],
      "metadata": {
        "id": "zArW1toP7oVV",
        "colab": {
          "base_uri": "https://localhost:8080/"
        },
        "outputId": "7f03d903-8012-47ce-dd4f-d75c85f28e17"
      },
      "id": "zArW1toP7oVV",
      "execution_count": 8,
      "outputs": [
        {
          "output_type": "stream",
          "name": "stdout",
          "text": [
            "1\n",
            "value\n",
            "[None, 2.0]\n",
            "None\n",
            "2.0\n"
          ]
        }
      ]
    },
    {
      "cell_type": "markdown",
      "source": [
        "### C. List Comprehension\n",
        "Python has particular way for dealing with lists, what it's called List Comprehension. They are a oneliner form of a for loop, and they're used to both create lists from scratch and perform operations over each element of the list. For example we can create a list with all the integers between 0 and 9.\n",
        "\n"
      ],
      "metadata": {
        "id": "BiTFKEHRE214"
      },
      "id": "BiTFKEHRE214"
    },
    {
      "cell_type": "code",
      "source": [
        "aList = [x for x in range (10)]\n",
        "print(aList)\n",
        "#prints [ 0 , 1 , 2 , 3 , 4 , 5 , 6 , 7 , 8 , 9 ]"
      ],
      "metadata": {
        "id": "OWxKTcj8FS2n",
        "colab": {
          "base_uri": "https://localhost:8080/"
        },
        "outputId": "24460039-1433-4ee7-c4b1-7e20f29b25cc"
      },
      "id": "OWxKTcj8FS2n",
      "execution_count": 9,
      "outputs": [
        {
          "output_type": "stream",
          "name": "stdout",
          "text": [
            "[0, 1, 2, 3, 4, 5, 6, 7, 8, 9]\n"
          ]
        }
      ]
    },
    {
      "cell_type": "markdown",
      "source": [
        "We are not limited to a single for clause, so we can combine several of them and if conditions in order to create more complex lists. In this example, we're creating a tuple list from the elements of two lists, with the condition that both elements cannot be equal:"
      ],
      "metadata": {
        "id": "_u7WUFYqHsu5"
      },
      "id": "_u7WUFYqHsu5"
    },
    {
      "cell_type": "code",
      "source": [
        "tList = [(x, y) for x in [1, 2, 3] for y in [ 3, 4 ] if x != y ]\n",
        "print( tList )\n",
        "#prints [ (1, 3), (1, 4), (2, 3), (2, 4), (3, 4)]"
      ],
      "metadata": {
        "id": "f60FBL_0IGY2",
        "colab": {
          "base_uri": "https://localhost:8080/"
        },
        "outputId": "e650cb99-fb91-472f-fef6-f1f4a12ba3c3"
      },
      "id": "f60FBL_0IGY2",
      "execution_count": 10,
      "outputs": [
        {
          "output_type": "stream",
          "name": "stdout",
          "text": [
            "[(1, 3), (1, 4), (2, 3), (2, 4), (3, 4)]\n"
          ]
        }
      ]
    },
    {
      "cell_type": "markdown",
      "source": [
        "If we want to perfom an action to all the elements of a list using List Comprehension, it can be done as in this example. We are taking all the numbers in a List and rounding them to two decimals:"
      ],
      "metadata": {
        "id": "CU0QvLjAtgSs"
      },
      "id": "CU0QvLjAtgSs"
    },
    {
      "cell_type": "code",
      "source": [
        "nList = [1.2384, 4.972638, 7.826344]\n",
        "rnList = [ str(round(number, 2)) for number in nList ]\n",
        "print(rnList)\n",
        "#prints[ '1.24' , '4.97', '7.83' ]"
      ],
      "metadata": {
        "id": "gIE2_xDctlnG",
        "colab": {
          "base_uri": "https://localhost:8080/"
        },
        "outputId": "f3a86a7c-62f0-4cf4-b96d-aa8a1cf3061c"
      },
      "id": "gIE2_xDctlnG",
      "execution_count": 11,
      "outputs": [
        {
          "output_type": "stream",
          "name": "stdout",
          "text": [
            "['1.24', '4.97', '7.83']\n"
          ]
        }
      ]
    },
    {
      "cell_type": "markdown",
      "source": [
        "### D. Lambda expressions\n",
        "Lambda expressions, also known as anonymous functions, allow to write quick throw away functions (one use) without naming them. Here is an expression, which tests if the parameter is even:"
      ],
      "metadata": {
        "id": "aJWs3x5FvPBH"
      },
      "id": "aJWs3x5FvPBH"
    },
    {
      "cell_type": "code",
      "source": [
        "def isEven(x):\n",
        "  return x % 2 == 0\n",
        "result = isEven(4)\n",
        "print(result)"
      ],
      "metadata": {
        "id": "Orw6SXEvvZr6",
        "colab": {
          "base_uri": "https://localhost:8080/"
        },
        "outputId": "6123eb3d-f8ed-4d5f-9b3e-6d0ef56228b4"
      },
      "id": "Orw6SXEvvZr6",
      "execution_count": 12,
      "outputs": [
        {
          "output_type": "stream",
          "name": "stdout",
          "text": [
            "True\n"
          ]
        }
      ]
    },
    {
      "cell_type": "markdown",
      "source": [
        "Now, here is the same method implemented as a lambda expression:\n"
      ],
      "metadata": {
        "id": "pgIFmVQwvkgj"
      },
      "id": "pgIFmVQwvkgj"
    },
    {
      "cell_type": "code",
      "source": [
        "isEvenLambda = lambda x: x%2 == 0\n",
        "result = isEvenLambda(4)\n",
        "print(result)"
      ],
      "metadata": {
        "id": "lX4mGI0pvy60",
        "colab": {
          "base_uri": "https://localhost:8080/"
        },
        "outputId": "c32c2b8c-0f1f-4315-83fd-41cbbf413862"
      },
      "id": "lX4mGI0pvy60",
      "execution_count": 13,
      "outputs": [
        {
          "output_type": "stream",
          "name": "stdout",
          "text": [
            "True\n"
          ]
        }
      ]
    },
    {
      "cell_type": "markdown",
      "source": [
        "In other languages as Java, lambda expressions are the main way to perform changes iterating over collections. This purpose is mainly fulfilled using List comprehension in Python, but lambda expressions can still be useful for manipulating lists using the map() and filter() functions. For instance, the following code filters a list to only contain the even elements of the original one:"
      ],
      "metadata": {
        "id": "ehWkpqIlv-Iz"
      },
      "id": "ehWkpqIlv-Iz"
    },
    {
      "cell_type": "code",
      "source": [
        "isEvenLambda = lambda x: x%2 == 0\n",
        "aList = [x for x in range(10)]\n",
        "evenList = list(filter(isEvenLambda,aList))\n",
        "print(evenList)"
      ],
      "metadata": {
        "id": "oWcpKmkswHIe",
        "colab": {
          "base_uri": "https://localhost:8080/"
        },
        "outputId": "9bab40c7-0ff7-4435-c579-aa9031f4f2b4"
      },
      "id": "oWcpKmkswHIe",
      "execution_count": 14,
      "outputs": [
        {
          "output_type": "stream",
          "name": "stdout",
          "text": [
            "[0, 2, 4, 6, 8]\n"
          ]
        }
      ]
    },
    {
      "cell_type": "markdown",
      "source": [
        "You may have noticed that we have used both List Comprehension and lambda expressions here, taking advantage of each strengths. Note that in the lambda expression the variable x is just a name we decide to give to each number to be evaluated. Python however presents some disadvantages over Java when using lambda expressions:\n",
        "\n",
        "\n",
        "*   They can only contain a single expression in a single line. If you need\n",
        "to perform several actions you have to encapsulate them in a function.\n",
        "*   There is no stream interface equivalent in python, so it’s not easy to\n",
        "chain different collection processing code in the same manner as other\n",
        "languages.\n",
        "\n",
        "However, when dealing with Spark on Python lambda functions become really useful, as its counterparts on Java language, being used in the map, reduce or filter operations. You’ll probably end up using List Comprehension for creating lists or transforming them, and lambda expressions when using Spark.\n",
        "\n"
      ],
      "metadata": {
        "id": "vzbkjFUaweDo"
      },
      "id": "vzbkjFUaweDo"
    },
    {
      "cell_type": "markdown",
      "source": [
        "### E. Regular expressions\n",
        "A regular expression (regex) is a text string that allows to describe a search pattern in strings. In this section, we will provide you the information on how to deal with them in Python, if you are not familiar with regular expressions and their syntax, we encourage you to check a good summary at https://www.regular-expressions.info/quickstart.html\n",
        "\n",
        "The standard module for regex is Lib.re, which consists of the following\n",
        "classes:\n",
        "\n",
        "\n",
        "*   A **Pattern** object is a compiled representation of a regular expression. The **Pattern** class provides no public constructors. To create a pattern, you must first invoke one of the *compile* methods in module *re*, which will then return a **Pattern** object. These methods accept a regular expression as the first argument and behaviour flags as second one.\n",
        "*   A **Match** object is the result given by a match or search operation\n",
        "performed over a **Pattern** object\n",
        "\n",
        "The **Pattern** object have, among others, the following useful methods.Note that some of them have additional parameters to define starting and ending positions for the input string.\n",
        "\n",
        "\n",
        "*   The *search* method tries to find any part of the input string to the defined pattern.\n",
        "*   The *match* method tries to match the beginning of the input string to\n",
        "the defined pattern.\n",
        "*   The *fullmatch* method tries to match all the input string to the defined\n",
        "pattern.\n",
        "*   The *findall* method returns all the matches in the input string for\n",
        "the defined pattern.\n",
        "*   The *finditer* method is similar to *findall* but returns an iterator.\n",
        "\n",
        "A **Match** is created from a **Pattern** when invoking any of the previous methods and there's at least one match. Otherwise, *None* is returned. A returned **Match** object also have a set of methods to get the start and ending position of the match, the matching groups et al. Check the documentation at https://docs.python.org/3/library/re.html#match-objects for reference.\n",
        "\n",
        "The following program depicts an example of using such methods:\n",
        "\n",
        "\n",
        "\n",
        "\n",
        "\n"
      ],
      "metadata": {
        "id": "8flYCiO4w7vZ"
      },
      "id": "8flYCiO4w7vZ"
    },
    {
      "cell_type": "code",
      "source": [
        "import re\n",
        "# Input for matching the regexe pattern\n",
        "input = \"This is an apple . These are 33 ( thirty−three) apples\"\n",
        "# Regexe to be matched\n",
        "regexe = \"Th\"\n",
        "# Step 1 : Allocate a Pattern object to compile a regexe\n",
        "pattern = re.compile(regexe)\n",
        "#pattern = re.compile( regexe , re.IGNORECASE) #case−insensitive\n",
        "# Step 2 : Use the pattern to perform the matching and process\n",
        "# the matching result\n",
        "# Using finditer()\n",
        "for match in pattern.finditer(input):\n",
        "  print('findIter() found the pattern \\\"%s \\\" starting at \\\n",
        "  index %02d and ending at index %02d ' %\\\n",
        "  (match.group(0), match.start(), match.end()))\n",
        "\n",
        "#Using fullmatch()\n",
        "match = pattern.fullmatch(input)\n",
        "if(match):\n",
        "  print('fullmatch() found the pattern \\\"%s \\\" starting at \\\n",
        "  index %02d and ending at index %02d ' %\\\n",
        "  (match.group(0), match.start(), match.end()))\n",
        "else:\n",
        "  print(\"fullmatch() found nothing\")\n",
        "\n",
        "#Use method match()\n",
        "match = pattern.match(input)\n",
        "if(match):\n",
        "  print('match() found the pattern \\\"%s \\\" starting at \\\n",
        "  index %02d and ending at index %02d ' %\\\n",
        "  (match.group(0), match.start(), match.end()))\n",
        "else:\n",
        "  print(\"match() found nothing\")"
      ],
      "metadata": {
        "id": "7VQpqSIb4gw_",
        "colab": {
          "base_uri": "https://localhost:8080/"
        },
        "outputId": "4ff29ca8-67c7-4899-ff49-f42bdda9ea90"
      },
      "id": "7VQpqSIb4gw_",
      "execution_count": 15,
      "outputs": [
        {
          "output_type": "stream",
          "name": "stdout",
          "text": [
            "findIter() found the pattern \"Th \" starting at   index 00 and ending at index 02 \n",
            "findIter() found the pattern \"Th \" starting at   index 19 and ending at index 21 \n",
            "fullmatch() found nothing\n",
            "match() found the pattern \"Th \" starting at   index 00 and ending at index 02 \n"
          ]
        }
      ]
    },
    {
      "cell_type": "markdown",
      "source": [
        "The output of this code is the following one:\n",
        "\n",
        "\n",
        "```\n",
        "findIter() found the pattern \"Th \" starting at   index 00 and ending at index 02\n",
        "findIter() found the pattern \"Th \" starting at   index 19 and ending at index 21\n",
        "fullmatch() found nothing\n",
        "match() found the pattern \"Th \" starting at   index 00 and ending at index 02\n",
        "```\n",
        "\n",
        "\n"
      ],
      "metadata": {
        "id": "wNlCI1pb8s8k"
      },
      "id": "wNlCI1pb8s8k"
    },
    {
      "cell_type": "markdown",
      "source": [
        "## In-class Practice\n",
        "\n",
        "Now, we ask you to perform some data processing where the previously described techniques might come handy. Precisely, we will process data related to the Nobel prizes as obtained from their API (https://nobelprize.readme.io/docs/getting-started).\n",
        "We provide you with the following three  JSON files correspondingto the prize, laureate and country APIs. You can uncomment any of the print lines to see the structure of the json file for your reference:"
      ],
      "metadata": {
        "id": "QnisN7OMEadU"
      },
      "id": "QnisN7OMEadU"
    },
    {
      "cell_type": "code",
      "source": [
        "#!wget --no-check-certificate -O \"country.json\" \"https://fpc-git.upc.es/upcschool-lab/dataset-repository/-/raw/main/AdvancedPython/country.json\"\n",
        "#!wget --no-check-certificate -O \"laureate.json\" \"https://fpc-git.upc.es/upcschool-lab/dataset-repository/-/raw/main/AdvancedPython/laureate.json\"\n",
        "#!wget --no-check-certificate -O \"prize.json\" \"https://fpc-git.upc.es/upcschool-lab/dataset-repository/-/raw/main/AdvancedPython/prize.json\"\n",
        "\n",
        "import json\n",
        "countryjsonfile = open(\"country.json\",'r')\n",
        "countryjsoncontent = countryjsonfile.read()\n",
        "countryjsonfile.close()\n",
        "countriesContent = json.loads(countryjsoncontent)\n",
        "#print(json.dumps(countriesContent, indent=4))\n",
        "\n",
        "laureatejsonfile = open(\"laureate.json\",'r')\n",
        "laureatejsoncontent = laureatejsonfile.read()\n",
        "laureatejsonfile.close()\n",
        "laureatesContent = json.loads(laureatejsoncontent)\n",
        "#print(json.dumps(laureatesContent, indent=4))\n",
        "\n",
        "prizejsonfile = open(\"prize.json\",'r')\n",
        "prizejsoncontent = prizejsonfile.read()\n",
        "prizejsonfile.close()\n",
        "prizesContent = json.loads(prizejsoncontent)\n",
        "#print(json.dumps(prizesContent, indent=4))"
      ],
      "metadata": {
        "id": "aBKZ4pdSED3b"
      },
      "id": "aBKZ4pdSED3b",
      "execution_count": 110,
      "outputs": []
    },
    {
      "cell_type": "markdown",
      "source": [
        "\n",
        "\n",
        "### Exercise 1\n",
        "Print the code and name for each country. If there are multiple country names for the same code, print all the names together as a list. An excerpt of your output should look like the following:\n",
        "\n",
        "\n",
        "```\n",
        "PT −− [Portugal]\n",
        "LR −− [Liberia]\n",
        "DK −− [Denmark , Sleswick, then Denmark , Sleswick]\n",
        "LT −− [Lithuania , Russian Empire (now Lithuania ), Poland(now\n",
        "Lithuania)]\n",
        "LU −− [Luxembourg]\n",
        "```\n"
      ],
      "metadata": {
        "id": "GxN2dY7Z9FBK"
      },
      "id": "GxN2dY7Z9FBK"
    },
    {
      "cell_type": "code",
      "source": [
        "\n",
        "def allCountries(countriesJsonContent):\n",
        "  countries = json.loads(countriesJsonContent)['countries']\n",
        "  codes = [x['code'] for x in countries]\n",
        "  codes = list(set(codes)) # we want unique values\n",
        "  # we get a mapping between codes and all possible names linked to a code\n",
        "  mapping = [(x, [y['name'] for y in countries if y['code'] == x]) for x in codes]\n",
        "  output = [' -- '.join([x, str(y)]) for x, y in mapping]\n",
        "  output = '\\n'.join(output).replace(\"'\", \"\")\n",
        "  print(output)\n",
        "\n",
        "allCountries(countryjsoncontent)"
      ],
      "metadata": {
        "id": "L799sykeGTCK",
        "colab": {
          "base_uri": "https://localhost:8080/"
        },
        "outputId": "d05e5733-2f25-42e5-d709-a1891a3efc5e"
      },
      "id": "L799sykeGTCK",
      "execution_count": 48,
      "outputs": [
        {
          "output_type": "stream",
          "name": "stdout",
          "text": [
            " -- [Southern Rhodesia]\n",
            "MX -- [Mexico]\n",
            "NG -- [Nigeria]\n",
            "HU -- [Hungary, Austria-Hungary, Austria-Hungary (now Hungary)]\n",
            "SE -- [Sweden]\n",
            "TL -- [East Timor]\n",
            "CH -- [Switzerland]\n",
            "KE -- [Kenya]\n",
            "CA -- [Canada]\n",
            "PT -- [Portugal]\n",
            "VN -- [Democratic Republic of Vietnam, Vietnam]\n",
            "CR -- [Costa Rica]\n",
            "FI -- [Finland, Russian Empire (now Finland)]\n",
            "SI -- [Austria-Hungary (now Slovenia)]\n",
            "KP -- [Korea]\n",
            "KR -- [South Korea, Korea (now South Korea)]\n",
            "UK -- [United Kingdom]\n",
            "ID -- [Java, Dutch East Indies (now Indonesia)]\n",
            "GP -- [Guadeloupe Island]\n",
            "BG -- [Bulgaria]\n",
            "FR -- [France, Germany (now France)]\n",
            "DK -- [Denmark, Sleswick, then Denmark, Sleswick]\n",
            "GT -- [Guatemala]\n",
            "CY -- [Cyprus]\n",
            "GR -- [Greece, Crete (now Greece)]\n",
            "AR -- [Argentina]\n",
            "GB -- [Scotland]\n",
            "DZ -- [Algeria]\n",
            "PL -- [Poland, Poland, then Russian Empire, Poland, Russian Empire, Prussia, Prussia (now Poland), Germany (now Poland), Austria-Hungary (now Poland), German-occupied Poland, Russian Empire (now Poland), Free City of Danzig (now Poland)]\n",
            "TN -- [Tunisia]\n",
            "PR -- [Puerto Rico]\n",
            "CN -- [China, Tibet]\n",
            "IN -- [India]\n",
            "ZW -- [Southern Rhodesia (now Zimbabwe)]\n",
            "LT -- [Lithuania, Russian Empire (now Lithuania), Poland (now Lithuania)]\n",
            "NZ -- [New Zealand]\n",
            "SK -- [Hungary (now Slovakia)]\n",
            "BR -- [Brazil]\n",
            "IS -- [Iceland]\n",
            "ES -- [Spain]\n",
            "MU -- [Mauritius]\n",
            "DE -- [Alsace, then Germany, Alsace, Germany, Federal Republic of Germany, Germany, Hesse-Kassel (now Germany), West Germany, Schleswig (now Germany), Schleswig, East Germany, Prussia (now Germany), Bavaria (now Germany), East Friesland (now Germany), Mecklenburg (now Germany), Württemberg (now Germany)]\n",
            "GA -- [Gabon]\n",
            "PE -- [Peru]\n",
            "JM -- [Jamaica]\n",
            "CZ -- [Czechoslovakia, Czechoslovakia (now Czech Republic), Hungarian Empire (now Czech Republic), Austria-Hungary (now Czech Republic), Austrian Empire (now Czech Republic)]\n",
            "VE -- [Venezuela]\n",
            "ZA -- [South Africa, Union of South Africa]\n",
            "IR -- [Iran, Persia, Persia (now Iran)]\n",
            "LC -- [Saint Lucia, British West Indies (now Saint Lucia)]\n",
            "IO -- [British India]\n",
            "CO -- [Colombia]\n",
            "BE -- [Belgium]\n",
            "MG -- [Madagascar]\n",
            "LV -- [Latvia, Russian Empire]\n",
            "HR -- [Austria-Hungary (now Croatia)]\n",
            "MK -- [Ottoman Empire (now Republic of Macedonia)]\n",
            "CL -- [Chile]\n",
            "BB -- [Barbados]\n",
            "PK -- [Pakistan, India (now Pakistan)]\n",
            "UA -- [Austria-Hungary (now Ukraine), Russian Empire (now Ukraine)]\n",
            "NL -- [the Netherlands]\n",
            "JP -- [Japan]\n",
            "ZM -- [Northern Rhodesia (now Zambia)]\n",
            "IL -- [Israel, Palestine, British Protectorate of Palestine (now Israel), British Mandate of Palestine (now Israel)]\n",
            "LR -- [Liberia]\n",
            "AU -- [Australia]\n",
            "TT -- [Trinidad]\n",
            "RU -- [Russia, USSR, Prussia (now Russia), Russia, Soviet Union, Russian Empire, USSR (now Russia), Germany (now Russia), Finland (now Russia)]\n",
            "US -- [USA]\n",
            "AT -- [Austria, Austrian Empire (now Austria)]\n",
            "LU -- [Luxembourg]\n",
            "RO -- [Romania]\n",
            "FO -- [Faroe Islands]\n",
            "BY -- [USSR (now Belarus), Russian Empire (now Belarus), Poland (now Belarus)]\n",
            "NO -- [Norway]\n",
            "YE -- [Yemen]\n",
            "IT -- [Italy, Tuscany (now Italy), Austrian Empire (now Italy)]\n",
            "IE -- [Ireland, Northern Ireland]\n",
            "RS -- [Yugoslavia, Yugoslavia (now Serbia)]\n",
            "BA -- [Bosnia, Austria-Hungary (now Bosnia and Herzegovina)]\n",
            "EG -- [Egypt]\n",
            "TW -- [Taiwan]\n",
            "MM -- [Burma, Myanmar, Burma (now Myanmar)]\n",
            "TR -- [Turkey, Ottoman Empire (now Turkey)]\n",
            "BD -- [Bangladesh, British India (now Bangladesh)]\n",
            "AZ -- [Russian Empire (now Azerbaijan)]\n",
            "GH -- [Ghana, Gold Coast (now Ghana)]\n"
          ]
        }
      ]
    },
    {
      "cell_type": "markdown",
      "source": [
        "\n",
        "### Exercise 2\n",
        "For each year, print the total number of laureates that got a Nobel prize. An excerpt of your output should look like the following:\n",
        "\n",
        "\n",
        "```\n",
        "2015 −− 11\n",
        "2016 −− 11\n",
        "2017 −− 12\n",
        "```\n",
        "\n"
      ],
      "metadata": {
        "id": "vkQLQZdMGTg-"
      },
      "id": "vkQLQZdMGTg-"
    },
    {
      "cell_type": "code",
      "source": [
        "\n",
        "def amountPrizesPerYear(prizesJsonContent):\n",
        "  prizes = json.loads(prizesJsonContent)['prizes']\n",
        "\n",
        "  # we extract the years in a sorted manner:\n",
        "  years = sorted(list(set([x['year'] for x in prizes])))\n",
        "\n",
        "  # we determine the number of laureates per year\n",
        "  # there are as many tuples per year as categories with winners\n",
        "  n_prizes = [(y, len(x['laureates'])) for y in years for x in prizes if x['year'] == y]\n",
        "\n",
        "  # we make sure we sum all the prizes by year\n",
        "  n_prizes = [(y, sum([n for x, n in n_prizes if x == y])) for y in years]\n",
        "\n",
        "  # we set the table structure:\n",
        "  n_prizes = [' -- '.join([y, str(n)]) for y,n in n_prizes]\n",
        "  n_prizes = '\\n'.join(n_prizes)\n",
        "\n",
        "  # print results\n",
        "  print(n_prizes)\n",
        "\n",
        "amountPrizesPerYear(prizejsoncontent)"
      ],
      "metadata": {
        "id": "Dfzr8OHuGgz8",
        "colab": {
          "base_uri": "https://localhost:8080/"
        },
        "outputId": "2dd104d5-66f6-4812-ce32-1b89c7b96cbc"
      },
      "id": "Dfzr8OHuGgz8",
      "execution_count": 75,
      "outputs": [
        {
          "output_type": "stream",
          "name": "stdout",
          "text": [
            "1901 -- 6\n",
            "1902 -- 7\n",
            "1903 -- 7\n",
            "1904 -- 6\n",
            "1905 -- 5\n",
            "1906 -- 6\n",
            "1907 -- 6\n",
            "1908 -- 7\n",
            "1909 -- 7\n",
            "1910 -- 5\n",
            "1911 -- 6\n",
            "1912 -- 6\n",
            "1913 -- 5\n",
            "1914 -- 3\n",
            "1915 -- 4\n",
            "1916 -- 1\n",
            "1917 -- 4\n",
            "1918 -- 2\n",
            "1919 -- 4\n",
            "1920 -- 5\n",
            "1921 -- 5\n",
            "1922 -- 6\n",
            "1923 -- 5\n",
            "1924 -- 3\n",
            "1925 -- 6\n",
            "1926 -- 6\n",
            "1927 -- 7\n",
            "1928 -- 4\n",
            "1929 -- 7\n",
            "1930 -- 5\n",
            "1931 -- 6\n",
            "1932 -- 5\n",
            "1933 -- 5\n",
            "1934 -- 6\n",
            "1935 -- 5\n",
            "1936 -- 7\n",
            "1937 -- 7\n",
            "1938 -- 5\n",
            "1939 -- 5\n",
            "1943 -- 4\n",
            "1944 -- 6\n",
            "1945 -- 7\n",
            "1946 -- 8\n",
            "1947 -- 8\n",
            "1948 -- 4\n",
            "1949 -- 6\n",
            "1950 -- 8\n",
            "1951 -- 7\n",
            "1952 -- 7\n",
            "1953 -- 6\n",
            "1954 -- 8\n",
            "1955 -- 5\n",
            "1956 -- 9\n",
            "1957 -- 6\n",
            "1958 -- 9\n",
            "1959 -- 7\n",
            "1960 -- 6\n",
            "1961 -- 6\n",
            "1962 -- 8\n",
            "1963 -- 11\n",
            "1964 -- 8\n",
            "1965 -- 9\n",
            "1966 -- 6\n",
            "1967 -- 8\n",
            "1968 -- 7\n",
            "1969 -- 10\n",
            "1970 -- 9\n",
            "1971 -- 6\n",
            "1972 -- 11\n",
            "1973 -- 12\n",
            "1974 -- 12\n",
            "1975 -- 12\n",
            "1976 -- 9\n",
            "1977 -- 11\n",
            "1978 -- 11\n",
            "1979 -- 11\n",
            "1980 -- 11\n",
            "1981 -- 11\n",
            "1982 -- 9\n",
            "1983 -- 7\n",
            "1984 -- 9\n",
            "1985 -- 8\n",
            "1986 -- 11\n",
            "1987 -- 9\n",
            "1988 -- 12\n",
            "1989 -- 10\n",
            "1990 -- 11\n",
            "1991 -- 7\n",
            "1992 -- 7\n",
            "1993 -- 11\n",
            "1994 -- 12\n",
            "1995 -- 12\n",
            "1996 -- 13\n",
            "1997 -- 12\n",
            "1998 -- 12\n",
            "1999 -- 7\n",
            "2000 -- 13\n",
            "2001 -- 15\n",
            "2002 -- 13\n",
            "2003 -- 11\n",
            "2004 -- 12\n",
            "2005 -- 13\n",
            "2006 -- 9\n",
            "2007 -- 12\n",
            "2008 -- 12\n",
            "2009 -- 13\n",
            "2010 -- 11\n",
            "2011 -- 13\n",
            "2012 -- 10\n",
            "2013 -- 13\n",
            "2014 -- 13\n",
            "2015 -- 11\n",
            "2016 -- 11\n",
            "2017 -- 12\n"
          ]
        }
      ]
    },
    {
      "cell_type": "markdown",
      "source": [
        "### Exercise 3\n",
        "Print the name and date of birth of those laureates that got a Nobel prize motivated by their work on DNA. An excerpt of your output should look like the following:\n",
        "\n",
        "```\n",
        "Berg , Paul −− 1926−06−30\n",
        "Lindahl , Tomas −− 1938−01−28\n",
        "Modrich , Paul −− 1946−06−13\n",
        "Sancar , Aziz −− 1946−09−08\n",
        "```"
      ],
      "metadata": {
        "id": "08kiMwggGhPB"
      },
      "id": "08kiMwggGhPB"
    },
    {
      "cell_type": "code",
      "source": [
        "import re\n",
        "\n",
        "\n",
        "def birthDateDNANobel(laureatesJsonContent):\n",
        "  laureates = json.loads(laureatesJsonContent)['laureates']\n",
        "\n",
        "  #print(laureates)\n",
        "\n",
        "  # we extract the prizes list as a text since all we care is that any of their\n",
        "  # prizes is related to their work on DNA\n",
        "\n",
        "  laureates_clean = [l for l in laureates if 'surname' in l.keys() and 'firstname' in l.keys()]\n",
        "\n",
        "  prizes = [([(x['surname'], x['firstname']), x['born']], str(x['prizes'])) for\n",
        "            x in laureates_clean]\n",
        "\n",
        "  # we now apply reg  print([x for x in laureates if x['id'] in dna_laureates and 'surname' in x.keys()])Ex to extract all the items that have 'DNA' in their content\n",
        "  pattern = re.compile(\"DNA\")\n",
        "\n",
        "  dna_laureates = [x for x, s in prizes if re.search(pattern, s)]\n",
        "\n",
        "  dna_laureates = [', '.join(x) + '  --  ' + y for x, y in dna_laureates]\n",
        "\n",
        "  dna_laureates = '\\n'.join(dna_laureates)\n",
        "\n",
        "  print(dna_laureates)\n",
        "\n",
        "birthDateDNANobel(laureatejsoncontent)\n",
        "\n"
      ],
      "metadata": {
        "id": "R-aj0YklXGb2",
        "colab": {
          "base_uri": "https://localhost:8080/"
        },
        "outputId": "ce1f4ee2-110c-4228-90f1-6d792bbb075b"
      },
      "id": "R-aj0YklXGb2",
      "execution_count": 109,
      "outputs": [
        {
          "output_type": "stream",
          "name": "stdout",
          "text": [
            "Berg, Paul  --  1926-06-30\n",
            "Mullis, Kary B.  --  1944-12-28\n",
            "Smith, Michael  --  1932-04-26\n",
            "Lindahl, Tomas  --  1938-01-28\n",
            "Modrich, Paul  --  1946-06-13\n",
            "Sancar, Aziz  --  1946-09-08\n"
          ]
        }
      ]
    }
  ],
  "metadata": {
    "kernelspec": {
      "display_name": "Python 3 (ipykernel)",
      "language": "python",
      "name": "python3"
    },
    "language_info": {
      "codemirror_mode": {
        "name": "ipython",
        "version": 3
      },
      "file_extension": ".py",
      "mimetype": "text/x-python",
      "name": "python",
      "nbconvert_exporter": "python",
      "pygments_lexer": "ipython3",
      "version": "3.9.4"
    },
    "colab": {
      "provenance": [],
      "include_colab_link": true
    }
  },
  "nbformat": 4,
  "nbformat_minor": 5
}