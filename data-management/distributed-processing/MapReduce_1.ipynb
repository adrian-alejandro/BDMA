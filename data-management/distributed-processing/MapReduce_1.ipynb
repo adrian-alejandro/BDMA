{
  "cells": [
    {
      "cell_type": "markdown",
      "metadata": {
        "id": "view-in-github",
        "colab_type": "text"
      },
      "source": [
        "<a href=\"https://colab.research.google.com/github/adrian-alejandro/BDMA/blob/main/data-management/distributed-processing/MapReduce_1.ipynb\" target=\"_parent\"><img src=\"https://colab.research.google.com/assets/colab-badge.svg\" alt=\"Open In Colab\"/></a>"
      ]
    },
    {
      "cell_type": "markdown",
      "id": "902ab0ee-4efc-4456-b23a-c7ec167d4404",
      "metadata": {
        "jp-MarkdownHeadingCollapsed": true,
        "tags": [],
        "id": "902ab0ee-4efc-4456-b23a-c7ec167d4404"
      },
      "source": [
        "# MapReduce I"
      ]
    },
    {
      "cell_type": "code",
      "execution_count": null,
      "id": "8962375b-786f-4738-b7ed-343de3f7224f",
      "metadata": {
        "colab": {
          "base_uri": "https://localhost:8080/"
        },
        "id": "8962375b-786f-4738-b7ed-343de3f7224f",
        "outputId": "f85d890b-4dfc-4f04-90a9-a69b66a520db"
      },
      "outputs": [
        {
          "output_type": "stream",
          "name": "stdout",
          "text": [
            "Collecting pyspark\n",
            "  Downloading pyspark-3.5.0.tar.gz (316.9 MB)\n",
            "\u001b[2K     \u001b[90m━━━━━━━━━━━━━━━━━━━━━━━━━━━━━━━━━━━━━━━━\u001b[0m \u001b[32m316.9/316.9 MB\u001b[0m \u001b[31m2.1 MB/s\u001b[0m eta \u001b[36m0:00:00\u001b[0m\n",
            "\u001b[?25h  Preparing metadata (setup.py) ... \u001b[?25l\u001b[?25hdone\n",
            "Requirement already satisfied: py4j==0.10.9.7 in /usr/local/lib/python3.10/dist-packages (from pyspark) (0.10.9.7)\n",
            "Building wheels for collected packages: pyspark\n",
            "  Building wheel for pyspark (setup.py) ... \u001b[?25l\u001b[?25hdone\n",
            "  Created wheel for pyspark: filename=pyspark-3.5.0-py2.py3-none-any.whl size=317425344 sha256=6dc4f9f5d8c7176752d4513c6f9b353306b412d2097a18792e74301209fb4f35\n",
            "  Stored in directory: /root/.cache/pip/wheels/41/4e/10/c2cf2467f71c678cfc8a6b9ac9241e5e44a01940da8fbb17fc\n",
            "Successfully built pyspark\n",
            "Installing collected packages: pyspark\n",
            "Successfully installed pyspark-3.5.0\n",
            "--2023-11-03 07:54:57--  https://mydisk.cs.upc.edu/s/DPYbCoMnF9y68by/download/adult.1000.sf\n",
            "Resolving mydisk.cs.upc.edu (mydisk.cs.upc.edu)... 147.83.29.248\n",
            "Connecting to mydisk.cs.upc.edu (mydisk.cs.upc.edu)|147.83.29.248|:443... connected.\n",
            "HTTP request sent, awaiting response... 200 OK\n",
            "Length: 115910 (113K) [application/octet-stream]\n",
            "Saving to: ‘adult.1000.sf’\n",
            "\n",
            "adult.1000.sf       100%[===================>] 113.19K   241KB/s    in 0.5s    \n",
            "\n",
            "2023-11-03 07:54:59 (241 KB/s) - ‘adult.1000.sf’ saved [115910/115910]\n",
            "\n"
          ]
        }
      ],
      "source": [
        "!pip3 install pyspark\n",
        "!wget -O \"adult.1000.sf\" \"https://mydisk.cs.upc.edu/s/DPYbCoMnF9y68by/download/adult.1000.sf\"\n",
        "import pyspark\n",
        "from pyspark.sql import SparkSession\n",
        "from pprint import pprint\n",
        "import random\n",
        "\n",
        "attributes = [\"id\",\"age\",\"workclass\",\"fnlwgt\",\"education\",\"education_num\",\"marital_status\",\"relationship\",\"race\",\"sex\",\"capital_gain\",\"capital_loss\",\"hours_per_week\",\"native_country\"]\n",
        "def getAttribute(row,attribute):\n",
        "    for i,att in enumerate(attributes):\n",
        "        if (att == attribute):\n",
        "            return row[i]\n",
        "    return None\n",
        "\n",
        "def executeMapReduce(mapFunction, reduceFunction):\n",
        "    sc = pyspark.SparkContext.getOrCreate()\n",
        "    pprint(sc.sequenceFile(\"adult.1000.sf\").flatMap(lambda t: mapFunction(t[0],t[1])).groupByKey().flatMap(lambda t: reduceFunction(t[0],t[1])).take(10))"
      ]
    },
    {
      "cell_type": "markdown",
      "id": "f92e64ba-c33c-49fd-911d-681399562eea",
      "metadata": {
        "tags": [],
        "id": "f92e64ba-c33c-49fd-911d-681399562eea"
      },
      "source": [
        "# Session 1\n",
        "\n",
        "In this session you will be able to implement relational operators using MapReduce.\n",
        "\n",
        "## Dataset\n",
        "\n",
        "In this session we will use the [Adult dataset](https://archive.ics.uci.edu/ml/datasets/Adult), containing information about census and their income. You can check the files `adult.names` to get a better understanding of the schema of data being used. As input data, we provide you with a `SequenceFile` dataset (`adult.1000.sf`) where the key is a surrogate ID, and the value is a comma separated set of attributes conforming to the schema in `adult.names`. The following tuple is an example of the file:\n",
        "\n",
        "```\n",
        "('GtdDh4aF', '18,Local-gov,674771,Doctorate,8,Widowed,Wife,Other,Female,44859,8519,31,Yugoslavia')\n",
        "```\n",
        "\n",
        "Furthermore, we provide you with the method `Utils.get(array,attribute)`, which returns the projection for a specific attribute in the array. Note that the array should also contain the key as the first value (see the provided example)."
      ]
    },
    {
      "cell_type": "markdown",
      "id": "9fb147f5-f2be-4765-823d-6481d90d02e1",
      "metadata": {
        "id": "9fb147f5-f2be-4765-823d-6481d90d02e1"
      },
      "source": [
        "## Example 1) Projection\n",
        "\n",
        "We provide you with the implementation of the projection operator. In SQL it would correspond to the following query:\n",
        "```sql\n",
        "SELECT DISTINCT age, relationship, native_country FROM adult;\n",
        "```"
      ]
    },
    {
      "cell_type": "code",
      "execution_count": null,
      "id": "fb06fc75-c109-42b5-8b9d-b1dbffed9276",
      "metadata": {
        "colab": {
          "base_uri": "https://localhost:8080/"
        },
        "id": "fb06fc75-c109-42b5-8b9d-b1dbffed9276",
        "outputId": "1837523f-1c71-4e91-ffb4-bad0c0cf37f8"
      },
      "outputs": [
        {
          "output_type": "stream",
          "name": "stdout",
          "text": [
            "[]\n"
          ]
        }
      ],
      "source": [
        "def projection_map(k,v):\n",
        "    tupl = (k+\",\"+v)\n",
        "    return [(getAttribute(tupl.split(\",\"),\"age\")+\",\"+\n",
        "             getAttribute(tupl.split(\",\"),\"relationship\")+\",\"+getAttribute(tupl.split(\",\"),\"native_country\"),1)]\n",
        "\n",
        "def projection_reduce(k, lv):\n",
        "    return [k]\n",
        "\n",
        "executeMapReduce(projection_map,projection_reduce)"
      ]
    },
    {
      "cell_type": "markdown",
      "id": "a77a713c-54c5-4e60-8f5a-71e8b96b1216",
      "metadata": {
        "id": "a77a713c-54c5-4e60-8f5a-71e8b96b1216"
      },
      "source": [
        "## Example 2) Cross product\n",
        "\n",
        "We provide you with the implementation of the cross product operator. In SQL it would correspond to the following query:\n",
        "```sql\n",
        "SELECT external.*, internal.*\n",
        "FROM adult as internal, adult as external\n",
        "WHERE external.native_country = \"Italy\" AND internal.native_country = \"Ecuador\"\n",
        "```"
      ]
    },
    {
      "cell_type": "code",
      "execution_count": null,
      "id": "ca7fc07a-696e-404b-ab73-0599a2af6b46",
      "metadata": {
        "id": "ca7fc07a-696e-404b-ab73-0599a2af6b46"
      },
      "outputs": [],
      "source": [
        "N = 100\n",
        "\n",
        "def crossproduct_map(k,v):\n",
        "    tupl = k+\",\"+v\n",
        "    if \"Italy\" in getAttribute(tupl.split(\",\"),\"native_country\"):\n",
        "        return [(random.randint(0,N),tupl)]\n",
        "    elif \"Ecuador\" in getAttribute(tupl.split(\",\"),\"native_country\"):\n",
        "        retValue = []\n",
        "        for i in range(N):\n",
        "            retValue.append((i,tupl))\n",
        "        return retValue\n",
        "    return []\n",
        "\n",
        "def crossproduct_reduce(k, lv):\n",
        "    italy = []\n",
        "    ecuador = []\n",
        "    for v in lv:\n",
        "        if \"Italy\" in getAttribute(v.split(\",\"),\"native_country\"):\n",
        "            italy.append(v)\n",
        "        elif \"Ecuador\" in getAttribute(v.split(\",\"),\"native_country\"):\n",
        "            ecuador.append(v)\n",
        "    retValue = []\n",
        "    for x in italy:\n",
        "        for y in ecuador:\n",
        "            retValue.append((None,x+\"<->\"+y))\n",
        "    return retValue\n",
        "\n",
        "executeMapReduce(crossproduct_map,crossproduct_reduce)"
      ]
    },
    {
      "cell_type": "markdown",
      "id": "741da5a2-2315-4f7c-91da-e00166bef305",
      "metadata": {
        "id": "741da5a2-2315-4f7c-91da-e00166bef305"
      },
      "source": [
        "## Exercise 1) Selection\n",
        "\n",
        "Implement the selection operator. In SQL it would correspond to the following query:\n",
        "\n",
        "```sql\n",
        "SELECT * FROM adult WHERE workclass = \"Private\"\n",
        "```"
      ]
    },
    {
      "cell_type": "code",
      "execution_count": null,
      "id": "bb48317b-44a3-4e4a-bc7a-7b479a61c16f",
      "metadata": {
        "id": "bb48317b-44a3-4e4a-bc7a-7b479a61c16f"
      },
      "outputs": [],
      "source": [
        "def selection_map(k,v):\n",
        "    return None\n",
        "\n",
        "def selection_reduce(k, lv):\n",
        "    return None\n",
        "\n",
        "executeMapReduce(selection_map,selection_reduce)"
      ]
    },
    {
      "cell_type": "markdown",
      "id": "61369f7c-5dbc-440d-8950-a0cdda03d5a9",
      "metadata": {
        "id": "61369f7c-5dbc-440d-8950-a0cdda03d5a9"
      },
      "source": [
        "## Exercise 2) Grouping\n",
        "\n",
        "Implement the grouping operator (note this operation does not exist in standard SQL). In SQL it would correspond to the following query:\n",
        "\n",
        "```sql\n",
        "SELECT native_country, list(capital_gain) FROM adult GROUP BY native_country\n",
        "```"
      ]
    },
    {
      "cell_type": "code",
      "execution_count": null,
      "id": "3645c2f6-41e3-4b07-8880-a90df3d3444b",
      "metadata": {
        "id": "3645c2f6-41e3-4b07-8880-a90df3d3444b"
      },
      "outputs": [],
      "source": [
        "def grouping_map(k,v):\n",
        "    return None\n",
        "\n",
        "def grouping_reduce(k, lv):\n",
        "    return None\n",
        "\n",
        "executeMapReduce(grouping_map,grouping_reduce)"
      ]
    },
    {
      "cell_type": "markdown",
      "id": "9f25af49-1813-4b27-9c46-231d57eb199a",
      "metadata": {
        "id": "9f25af49-1813-4b27-9c46-231d57eb199a"
      },
      "source": [
        "## Exercise 3) Aggregation\n",
        "\n",
        "Implement the aggregation operator (note this operation does not exist in standard SQL). In SQL it would correspond to the following query:\n",
        "\n",
        "```sql\n",
        "SELECT native_country, SUM(capital_gain) FROM adult GROUP BY native_country\n",
        "```"
      ]
    },
    {
      "cell_type": "code",
      "execution_count": null,
      "id": "5b02d17a-7049-49e6-a08c-f53efcc9dd2a",
      "metadata": {
        "id": "5b02d17a-7049-49e6-a08c-f53efcc9dd2a"
      },
      "outputs": [],
      "source": [
        "def aggregation_map(k,v):\n",
        "    return None\n",
        "\n",
        "def aggregation_reduce(k, lv):\n",
        "    return None\n",
        "\n",
        "executeMapReduce(aggregation_map,aggregation_reduce)"
      ]
    },
    {
      "cell_type": "markdown",
      "id": "55111313-4133-4291-8807-1607abdfffa5",
      "metadata": {
        "id": "55111313-4133-4291-8807-1607abdfffa5"
      },
      "source": [
        "## Exercise 4) Union\n",
        "\n",
        "Implement the union operator. In SQL it would correspond to the following query:\n",
        "\n",
        "```sql\n",
        "SELECT capital_gain FROM adult a1 WHERE native_country = \"Italy\"\n",
        "UNION\n",
        "SELECT capital_loss FROM adult a2 WHERE native_country = \"Ecuador\"\n",
        "```"
      ]
    },
    {
      "cell_type": "code",
      "execution_count": null,
      "id": "86767cde-6735-4d5f-833b-0f31c79c565e",
      "metadata": {
        "id": "86767cde-6735-4d5f-833b-0f31c79c565e"
      },
      "outputs": [],
      "source": [
        "def union_map(k,v):\n",
        "    return None\n",
        "\n",
        "def union_reduce(k, lv):\n",
        "    return None\n",
        "\n",
        "executeMapReduce(union_map,union_reduce)"
      ]
    },
    {
      "cell_type": "markdown",
      "id": "7f47ad99-931c-4d54-bce6-90f51b1a95eb",
      "metadata": {
        "id": "7f47ad99-931c-4d54-bce6-90f51b1a95eb"
      },
      "source": [
        "## Exercise 5) Difference\n",
        "\n",
        "Implement the difference operator. In SQL it would correspond to the following query:\n",
        "\n",
        "```sql\n",
        "SELECT age FROM adult a1 WHERE native_country = \"Italy\" EXCEPT\n",
        "SELECT age FROM adult a2 WHERE native_country = \"Ecuador\"\n",
        "```"
      ]
    },
    {
      "cell_type": "code",
      "execution_count": null,
      "id": "6baeb2c6-e5e0-400c-96f0-909d050b91fb",
      "metadata": {
        "id": "6baeb2c6-e5e0-400c-96f0-909d050b91fb"
      },
      "outputs": [],
      "source": [
        "def difference_map(k,v):\n",
        "    return None\n",
        "\n",
        "def difference_reduce(k, lv):\n",
        "    return None\n",
        "\n",
        "executeMapReduce(difference_map,difference_reduce)"
      ]
    },
    {
      "cell_type": "markdown",
      "id": "e34a2194-f3a2-4dcc-b6f1-e7cf2cdbb6bc",
      "metadata": {
        "id": "e34a2194-f3a2-4dcc-b6f1-e7cf2cdbb6bc"
      },
      "source": [
        "## Exercise 6) Intersection\n",
        "\n",
        "Implement the intersection (based on one attribute) operator. In SQL it would correspond to the following query:\n",
        "\n",
        "```sql\n",
        "SELECT age FROM adult a1 WHERE native_country = \"Italy\" INTERSECT\n",
        "SELECT age FROM adult a2 WHERE native_country = \"Ecuador\"\n",
        "```"
      ]
    },
    {
      "cell_type": "code",
      "execution_count": null,
      "id": "d65b1d82-32e2-40ad-9692-91a537f9c8e5",
      "metadata": {
        "id": "d65b1d82-32e2-40ad-9692-91a537f9c8e5"
      },
      "outputs": [],
      "source": [
        "def intersection_map(k,v):\n",
        "    return None\n",
        "\n",
        "def intersection_reduce(k, lv):\n",
        "    return None\n",
        "\n",
        "executeMapReduce(intersection_map,intersection_reduce)"
      ]
    },
    {
      "cell_type": "markdown",
      "id": "102ae37b-e5aa-4484-be25-7552effca267",
      "metadata": {
        "id": "102ae37b-e5aa-4484-be25-7552effca267"
      },
      "source": [
        "## Exercise 7) Join\n",
        "\n",
        "Implement the join operator. In SQL it would correspond to the following query:\n",
        "\n",
        "```sql\n",
        "SELECT external.*, internal.*\n",
        "FROM adult as internal INNER JOIN adult as external ON internal.marital_status = external.marital_status\n",
        "WHERE external.native_country = \"Italy\" AND internal.native_country = \"Ecuador\"\n",
        "```"
      ]
    },
    {
      "cell_type": "code",
      "execution_count": null,
      "id": "9dd9b729-6d03-4f53-8ec4-d1d37660f9c8",
      "metadata": {
        "id": "9dd9b729-6d03-4f53-8ec4-d1d37660f9c8"
      },
      "outputs": [],
      "source": [
        "def join_map(k,v):\n",
        "    return None\n",
        "\n",
        "def join_reduce(k, lv):\n",
        "    return None\n",
        "\n",
        "executeMapReduce(join_map,join_reduce)"
      ]
    }
  ],
  "metadata": {
    "kernelspec": {
      "display_name": "Python 3 (ipykernel)",
      "language": "python",
      "name": "python3"
    },
    "language_info": {
      "codemirror_mode": {
        "name": "ipython",
        "version": 3
      },
      "file_extension": ".py",
      "mimetype": "text/x-python",
      "name": "python",
      "nbconvert_exporter": "python",
      "pygments_lexer": "ipython3",
      "version": "3.10.7"
    },
    "colab": {
      "provenance": [],
      "include_colab_link": true
    }
  },
  "nbformat": 4,
  "nbformat_minor": 5
}